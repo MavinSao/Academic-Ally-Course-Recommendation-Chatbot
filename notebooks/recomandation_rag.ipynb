{
 "cells": [
  {
   "cell_type": "code",
   "execution_count": 1,
   "id": "e998ba67",
   "metadata": {},
   "outputs": [],
   "source": [
    "#%pip install -Uq accelerate multiprocess"
   ]
  },
  {
   "cell_type": "code",
   "execution_count": 2,
   "id": "361580a1",
   "metadata": {},
   "outputs": [],
   "source": [
    "#%pip install --q langchain langchain_community openai faiss-cpu pandas tiktoken sentence-transformers"
   ]
  },
  {
   "cell_type": "code",
   "execution_count": 6,
   "id": "8ea5fc6b",
   "metadata": {},
   "outputs": [],
   "source": [
    "import dotenv\n",
    "from langchain.chat_models import ChatOpenAI\n",
    "from langchain.chains import ConversationalRetrievalChain, LLMChain\n",
    "from langchain.prompts import PromptTemplate\n",
    "from langchain.memory import ConversationSummaryBufferMemory\n",
    "from langchain.vectorstores import FAISS\n",
    "from langchain.embeddings import HuggingFaceEmbeddings"
   ]
  },
  {
   "cell_type": "code",
   "execution_count": 7,
   "id": "543f5ffb",
   "metadata": {},
   "outputs": [],
   "source": [
    "dotenv.load_dotenv()\n",
    "\n",
    "# Initialize Sentence Transformer embeddings\n",
    "model_name = \"all-MiniLM-L6-v2\"  # You can choose a different model if you prefer\n",
    "embeddings = HuggingFaceEmbeddings(model_name=model_name)"
   ]
  },
  {
   "cell_type": "code",
   "execution_count": 10,
   "id": "d5f103dc",
   "metadata": {},
   "outputs": [],
   "source": [
    "vectorstore = FAISS.load_local(\"../faiss_index\", embeddings, allow_dangerous_deserialization=True)\n",
    "retriever = vectorstore.as_retriever(search_kwargs={\"k\": 5})"
   ]
  },
  {
   "cell_type": "code",
   "execution_count": 11,
   "id": "d4ca384c",
   "metadata": {},
   "outputs": [
    {
     "name": "stdout",
     "output_type": "stream",
     "text": [
      "Document 1: page_content='Title: ACCA: Machine learning with Python for finance professionals\\n    Subject: Computer Science\\n    Description: A machine learning course focused on delivering practical Python skills for finance professionals looking to maximise their use of these time-saving tools within their organisation.\\n    Level: Intermediate\\n    Institution: ACCA\\n    About: Welcome to Machine learning with Python for finance professionals, provided by ACCA (Association of Chartered Certified Accountants), the global body for professional accountants. This course is part of the FinTech for finance and business leaders professional certificate program. This course will provide a view of what lies under the surface of a machine learning output, help to better interrogate a model, and partner with data scientists and others in an organisation to drive adoption and use of machine learning. Digital finance knowledge and skills are essential components of the technology transformation as business becomes increasingly customer focused. And having the skills to understand how these technologies are deployed and integrated into a customer centric business strategy is essential. With 16 Jupyter Notebooks available, alongside corresponding solution notebooks, and bonus exercises you will quickly become skilled in specific time-saving Machine Learning tools\\n    What You Will Learn: An introduction to Python starting from initial setup and explaining foundational concepts like data types, variables, mathematical operators, flow control, and functions. Using Python for data analysis including how to load data from different sources, drill down and segment, create pivot table style aggregations and explore data visualisation libraries.. Automating Excel workflows using Python to write macros that can be run at the click of a button using the full power of the Python eco-system; and to create template reports that update live with the latest data.. How to better interrogate a model, and partner with data scientists and others in an organisation to drive adoption and use of Machine Learning. Understand the basic workings of a machine learning model and its relationship to data science, Big Data and Artificial Intelligence.. Apply to real-world machine learning examples to meet practical objectives such as evaluating and improving the model, and error detection/correction.\\n    Syllabus: Module 1 – Introduction to Python In this module, the fundamental principles of coding are introduced using the Python programming language. From taking your first steps in coding to understanding data types to control flows, this module provides the essential elements needed for coding in Python. Topics covered: **** ● Introduction to the Python programming language ● Using the Jupyter Notebook environment to run Python code ● Data types: strings, integers and floats; how information is created in Python ● Variables and containers: how information is stored in Python ● Mathematical operators and calculation in Python ● Control flows, logic and writing functions: how to automate processes using code. Module 2 – Python for Data Analysis **** Learn the basics of using Python for working with data. This module introduces pandas, a Python library that is widely used for powerful yet easy data manipulation. Learn to load data from different sources, drill down and segment, create pivot table style aggregations and explore various data visualisation libraries. Topics covered: **** ● Introduction to working with third-party Python packages ● Working efficiently with large datasets using NumPy for numerical analysis ● Using pandas to read in, manipulate and analyse data ● Data visualisation using matplotlib and Seaborn ● Merging datasets and techniques for handling missing data. Module 3 – Automating Excel using Python **** Automation helps businesses to make regular reporting more efficient. In this module you will learn to automate commonly repeated Excel workflows using the xlwings Python library. Learn how to control Excel from Python and create template reports that update live with the latest data. Topics covered : ● Introduction to xlwings: a Python library for interacting with live Excel spreadsheets ● Using pandas and xlwings to automate the generation of Excel-based business intelligence reporting ● Learn to automate Excel and give your Excel-based workflows access to the full power of the Python data scientific ecosystem of tools Module 4 *– * Machine learning with Python Introductory hands-on module covering the essentials of implementing a real-world machine learning project. Understand the basics of ML theory and its relationship to data science, Big Data and Artificial Intelligence. Topics covered:\\n    Skills You Will Gain: no data\\n    Rating: no data\\n    Course URL: https://www.edx.org/learn/python/acca-machine-learning-with-python-for-finance-professionals?index=product&queryID=2965a169cdbffc5d0d56686bb60a318e&position=4&results_level=second-level-results&term=&objectID=course-907c58da-df1f-421f-a072-9e31d2fb4839&campaign=Machine+learning+with+Python+for+finance+professionals&source=edX&product_category=course&placement_url=https%3A%2F%2Fwww.edx.org%2Fsearch' metadata={'title': 'ACCA: Machine learning with Python for finance professionals', 'sub_info': 'A machine learning course focused on delivering practical Python skills for finance professionals looking to maximise their use of these time-saving tools within their organisation.', 'rating': nan, 'subject': 'Computer Science', 'level': 'Intermediate', 'institution': 'ACCA', 'course_url': 'https://www.edx.org/learn/python/acca-machine-learning-with-python-for-finance-professionals?index=product&queryID=2965a169cdbffc5d0d56686bb60a318e&position=4&results_level=second-level-results&term=&objectID=course-907c58da-df1f-421f-a072-9e31d2fb4839&campaign=Machine+learning+with+Python+for+finance+professionals&source=edX&product_category=course&placement_url=https%3A%2F%2Fwww.edx.org%2Fsearch'}\n",
      "Document 2: page_content='Title: ACCA: Machine learning with Python for finance professionals\\n    Subject: Computer Science\\n    Description: A machine learning course focused on delivering practical Python skills for finance professionals looking to maximise their use of these time-saving tools within their organisation.\\n    Level: Intermediate\\n    Institution: ACCA\\n    About: Welcome to Machine learning with Python for finance professionals, provided by ACCA (Association of Chartered Certified Accountants), the global body for professional accountants. This course is part of the FinTech for finance and business leaders professional certificate program. This course will provide a view of what lies under the surface of a machine learning output, help to better interrogate a model, and partner with data scientists and others in an organisation to drive adoption and use of machine learning. Digital finance knowledge and skills are essential components of the technology transformation as business becomes increasingly customer focused. And having the skills to understand how these technologies are deployed and integrated into a customer centric business strategy is essential. With 16 Jupyter Notebooks available, alongside corresponding solution notebooks, and bonus exercises you will quickly become skilled in specific time-saving Machine Learning tools\\n    What You Will Learn: An introduction to Python starting from initial setup and explaining foundational concepts like data types, variables, mathematical operators, flow control, and functions. Using Python for data analysis including how to load data from different sources, drill down and segment, create pivot table style aggregations and explore data visualisation libraries.. Automating Excel workflows using Python to write macros that can be run at the click of a button using the full power of the Python eco-system; and to create template reports that update live with the latest data.. How to better interrogate a model, and partner with data scientists and others in an organisation to drive adoption and use of Machine Learning. Understand the basic workings of a machine learning model and its relationship to data science, Big Data and Artificial Intelligence.. Apply to real-world machine learning examples to meet practical objectives such as evaluating and improving the model, and error detection/correction.\\n    Syllabus: Module 1 – Introduction to Python In this module, the fundamental principles of coding are introduced using the Python programming language. From taking your first steps in coding to understanding data types to control flows, this module provides the essential elements needed for coding in Python. Topics covered: **** ● Introduction to the Python programming language ● Using the Jupyter Notebook environment to run Python code ● Data types: strings, integers and floats; how information is created in Python ● Variables and containers: how information is stored in Python ● Mathematical operators and calculation in Python ● Control flows, logic and writing functions: how to automate processes using code. Module 2 – Python for Data Analysis **** Learn the basics of using Python for working with data. This module introduces pandas, a Python library that is widely used for powerful yet easy data manipulation. Learn to load data from different sources, drill down and segment, create pivot table style aggregations and explore various data visualisation libraries. Topics covered: **** ● Introduction to working with third-party Python packages ● Working efficiently with large datasets using NumPy for numerical analysis ● Using pandas to read in, manipulate and analyse data ● Data visualisation using matplotlib and Seaborn ● Merging datasets and techniques for handling missing data. Module 3 – Automating Excel using Python **** Automation helps businesses to make regular reporting more efficient. In this module you will learn to automate commonly repeated Excel workflows using the xlwings Python library. Learn how to control Excel from Python and create template reports that update live with the latest data. Topics covered : ● Introduction to xlwings: a Python library for interacting with live Excel spreadsheets ● Using pandas and xlwings to automate the generation of Excel-based business intelligence reporting ● Learn to automate Excel and give your Excel-based workflows access to the full power of the Python data scientific ecosystem of tools Module 4 *– * Machine learning with Python Introductory hands-on module covering the essentials of implementing a real-world machine learning project. Understand the basics of ML theory and its relationship to data science, Big Data and Artificial Intelligence. Topics covered:\\n    Skills You Will Gain: no data\\n    Rating: no data\\n    Course URL: https://www.edx.org/learn/python/acca-machine-learning-with-python-for-finance-professionals?index=product&queryID=6701c20158cc7839513d74e81f6ea5fc&position=22&results_level=second-level-results&term=&objectID=course-907c58da-df1f-421f-a072-9e31d2fb4839&campaign=Machine+learning+with+Python+for+finance+professionals&source=edX&product_category=course&placement_url=https%3A%2F%2Fwww.edx.org%2Fsearch' metadata={'title': 'ACCA: Machine learning with Python for finance professionals', 'sub_info': 'A machine learning course focused on delivering practical Python skills for finance professionals looking to maximise their use of these time-saving tools within their organisation.', 'rating': nan, 'subject': 'Computer Science', 'level': 'Intermediate', 'institution': 'ACCA', 'course_url': 'https://www.edx.org/learn/python/acca-machine-learning-with-python-for-finance-professionals?index=product&queryID=6701c20158cc7839513d74e81f6ea5fc&position=22&results_level=second-level-results&term=&objectID=course-907c58da-df1f-421f-a072-9e31d2fb4839&campaign=Machine+learning+with+Python+for+finance+professionals&source=edX&product_category=course&placement_url=https%3A%2F%2Fwww.edx.org%2Fsearch'}\n",
      "Document 3: page_content='Title: ACCA: Machine learning with Python for finance professionals\\n    Subject: Computer Science\\n    Description: A machine learning course focused on delivering practical Python skills for finance professionals looking to maximise their use of these time-saving tools within their organisation.\\n    Level: Intermediate\\n    Institution: ACCA\\n    About: Welcome to Machine learning with Python for finance professionals, provided by ACCA (Association of Chartered Certified Accountants), the global body for professional accountants. This course is part of the FinTech for finance and business leaders professional certificate program. This course will provide a view of what lies under the surface of a machine learning output, help to better interrogate a model, and partner with data scientists and others in an organisation to drive adoption and use of machine learning. Digital finance knowledge and skills are essential components of the technology transformation as business becomes increasingly customer focused. And having the skills to understand how these technologies are deployed and integrated into a customer centric business strategy is essential. With 16 Jupyter Notebooks available, alongside corresponding solution notebooks, and bonus exercises you will quickly become skilled in specific time-saving Machine Learning tools\\n    What You Will Learn: An introduction to Python starting from initial setup and explaining foundational concepts like data types, variables, mathematical operators, flow control, and functions. Using Python for data analysis including how to load data from different sources, drill down and segment, create pivot table style aggregations and explore data visualisation libraries.. Automating Excel workflows using Python to write macros that can be run at the click of a button using the full power of the Python eco-system; and to create template reports that update live with the latest data.. How to better interrogate a model, and partner with data scientists and others in an organisation to drive adoption and use of Machine Learning. Understand the basic workings of a machine learning model and its relationship to data science, Big Data and Artificial Intelligence.. Apply to real-world machine learning examples to meet practical objectives such as evaluating and improving the model, and error detection/correction.\\n    Syllabus: Module 1 – Introduction to Python In this module, the fundamental principles of coding are introduced using the Python programming language. From taking your first steps in coding to understanding data types to control flows, this module provides the essential elements needed for coding in Python. Topics covered: **** ● Introduction to the Python programming language ● Using the Jupyter Notebook environment to run Python code ● Data types: strings, integers and floats; how information is created in Python ● Variables and containers: how information is stored in Python ● Mathematical operators and calculation in Python ● Control flows, logic and writing functions: how to automate processes using code. Module 2 – Python for Data Analysis **** Learn the basics of using Python for working with data. This module introduces pandas, a Python library that is widely used for powerful yet easy data manipulation. Learn to load data from different sources, drill down and segment, create pivot table style aggregations and explore various data visualisation libraries. Topics covered: **** ● Introduction to working with third-party Python packages ● Working efficiently with large datasets using NumPy for numerical analysis ● Using pandas to read in, manipulate and analyse data ● Data visualisation using matplotlib and Seaborn ● Merging datasets and techniques for handling missing data. Module 3 – Automating Excel using Python **** Automation helps businesses to make regular reporting more efficient. In this module you will learn to automate commonly repeated Excel workflows using the xlwings Python library. Learn how to control Excel from Python and create template reports that update live with the latest data. Topics covered : ● Introduction to xlwings: a Python library for interacting with live Excel spreadsheets ● Using pandas and xlwings to automate the generation of Excel-based business intelligence reporting ● Learn to automate Excel and give your Excel-based workflows access to the full power of the Python data scientific ecosystem of tools Module 4 *– * Machine learning with Python Introductory hands-on module covering the essentials of implementing a real-world machine learning project. Understand the basics of ML theory and its relationship to data science, Big Data and Artificial Intelligence. Topics covered:\\n    Skills You Will Gain: no data\\n    Rating: no data\\n    Course URL: https://www.edx.org/learn/python/acca-machine-learning-with-python-for-finance-professionals?index=product&queryID=19ba1f0cef420f86b0fdbf64201efc9e&position=7&results_level=second-level-results&term=&objectID=course-907c58da-df1f-421f-a072-9e31d2fb4839&campaign=Machine+learning+with+Python+for+finance+professionals&source=edX&product_category=course&placement_url=https%3A%2F%2Fwww.edx.org%2Fsearch' metadata={'title': 'ACCA: Machine learning with Python for finance professionals', 'sub_info': 'A machine learning course focused on delivering practical Python skills for finance professionals looking to maximise their use of these time-saving tools within their organisation.', 'rating': nan, 'subject': 'Computer Science', 'level': 'Intermediate', 'institution': 'ACCA', 'course_url': 'https://www.edx.org/learn/python/acca-machine-learning-with-python-for-finance-professionals?index=product&queryID=19ba1f0cef420f86b0fdbf64201efc9e&position=7&results_level=second-level-results&term=&objectID=course-907c58da-df1f-421f-a072-9e31d2fb4839&campaign=Machine+learning+with+Python+for+finance+professionals&source=edX&product_category=course&placement_url=https%3A%2F%2Fwww.edx.org%2Fsearch'}\n",
      "Document 4: page_content='Title: UTAustinX: Fintech: AI & Machine Learning in the Financial Industry\\n    Subject: Economics & Finance\\n    Description: This course provides a detailed explanation of machine learning and its applications in finance.\\n    Level: Intermediate\\n    Institution: UTAustinX\\n    About: This is the third in a series of courses on financial technology, also called Fintech. This course provides an overview of machine learning applications in finance. The course is structured into three main modules. In the first one, we will survey the crowdfunding market. We will talk about equity crowdfunding and P2P or marketplace lending. In the second module, we will first learn what artificial intelligence is, and the attempts to create machines and algorithms that can replicate, mimic, and replace human activities. We will review the main machine learning tools, starting from measuring the accuracy of predictive models, to basic linear regressions, linear and non linear machine learning models, and deep learning, and their applications in finance. We will also use python to model credit application decisions. The third module focuses on quantitative investments, roboadvising, and finance in social platforms. Having a good grasp of machine learning is becoming a necessary skill in the labor market. After you complete this course, you will be able to have a detailed understanding of what machine learning is, and how it is applied in the financial sector. Financial professionals are often required or encouraged to continue their education to practice their profession. For some associations, this program may be used for Continuing Education Credits. Please check with your local or national organization if the program qualifies.\\n    What You Will Learn: The exciting new fintech areas of crowdfunding, robo-advising, financial social platform, and the democratization of trading and investments.. What machine learning is, and how to use machine learning algorithms.. How large financial institutions and fintech startups use machine learning to improve their financial products.\\n    Syllabus: Week 1: P2P Crowdfunding - Equity Crowdfunding - Marketplace Lending Week 2: Overview of Artificial Intelligence - Measuring Accuracy - Overfitting - Linear Machine Learning Models Week 3: - Non-linear Machine Learning Models - Deep learning - Credit Modeling Week 4: - Robo-advising - Social Investing - Quantitative Investing\\n    Skills You Will Gain: no data\\n    Rating: no data\\n    Course URL: https://www.edx.org/learn/economics/the-university-of-texas-at-austin-fintech-machine-learning-and-finance?index=product&queryID=047cadb5bd983ab72173b7ff6949dea3&position=1&results_level=second-level-results&term=&objectID=course-295caad9-4c1c-4895-be05-8d60abf567ac&campaign=Fintech%3A+AI+%26+Machine+Learning+in+the+Financial+Industry&source=edX&product_category=course&placement_url=https%3A%2F%2Fwww.edx.org%2Fsearch' metadata={'title': 'UTAustinX: Fintech: AI & Machine Learning in the Financial Industry', 'sub_info': 'This course provides a detailed explanation of machine learning and its applications in finance.', 'rating': nan, 'subject': 'Economics & Finance', 'level': 'Intermediate', 'institution': 'UTAustinX', 'course_url': 'https://www.edx.org/learn/economics/the-university-of-texas-at-austin-fintech-machine-learning-and-finance?index=product&queryID=047cadb5bd983ab72173b7ff6949dea3&position=1&results_level=second-level-results&term=&objectID=course-295caad9-4c1c-4895-be05-8d60abf567ac&campaign=Fintech%3A+AI+%26+Machine+Learning+in+the+Financial+Industry&source=edX&product_category=course&placement_url=https%3A%2F%2Fwww.edx.org%2Fsearch'}\n",
      "Document 5: page_content='Title: UTAustinX: Fintech: AI & Machine Learning in the Financial Industry\\n    Subject: Economics & Finance\\n    Description: This course provides a detailed explanation of machine learning and its applications in finance.\\n    Level: Intermediate\\n    Institution: UTAustinX\\n    About: This is the third in a series of courses on financial technology, also called Fintech. This course provides an overview of machine learning applications in finance. The course is structured into three main modules. In the first one, we will survey the crowdfunding market. We will talk about equity crowdfunding and P2P or marketplace lending. In the second module, we will first learn what artificial intelligence is, and the attempts to create machines and algorithms that can replicate, mimic, and replace human activities. We will review the main machine learning tools, starting from measuring the accuracy of predictive models, to basic linear regressions, linear and non linear machine learning models, and deep learning, and their applications in finance. We will also use python to model credit application decisions. The third module focuses on quantitative investments, roboadvising, and finance in social platforms. Having a good grasp of machine learning is becoming a necessary skill in the labor market. After you complete this course, you will be able to have a detailed understanding of what machine learning is, and how it is applied in the financial sector. Financial professionals are often required or encouraged to continue their education to practice their profession. For some associations, this program may be used for Continuing Education Credits. Please check with your local or national organization if the program qualifies.\\n    What You Will Learn: The exciting new fintech areas of crowdfunding, robo-advising, financial social platform, and the democratization of trading and investments.. What machine learning is, and how to use machine learning algorithms.. How large financial institutions and fintech startups use machine learning to improve their financial products.\\n    Syllabus: Week 1: P2P Crowdfunding - Equity Crowdfunding - Marketplace Lending Week 2: Overview of Artificial Intelligence - Measuring Accuracy - Overfitting - Linear Machine Learning Models Week 3: - Non-linear Machine Learning Models - Deep learning - Credit Modeling Week 4: - Robo-advising - Social Investing - Quantitative Investing\\n    Skills You Will Gain: no data\\n    Rating: no data\\n    Course URL: https://www.edx.org/learn/economics/the-university-of-texas-at-austin-fintech-machine-learning-and-finance?index=product&queryID=5f8c7936d0d8fcdbc153f11872fd2309&position=21&results_level=second-level-results&term=&objectID=course-295caad9-4c1c-4895-be05-8d60abf567ac&campaign=Fintech%3A+AI+%26+Machine+Learning+in+the+Financial+Industry&source=edX&product_category=course&placement_url=https%3A%2F%2Fwww.edx.org%2Fsearch' metadata={'title': 'UTAustinX: Fintech: AI & Machine Learning in the Financial Industry', 'sub_info': 'This course provides a detailed explanation of machine learning and its applications in finance.', 'rating': nan, 'subject': 'Economics & Finance', 'level': 'Intermediate', 'institution': 'UTAustinX', 'course_url': 'https://www.edx.org/learn/economics/the-university-of-texas-at-austin-fintech-machine-learning-and-finance?index=product&queryID=5f8c7936d0d8fcdbc153f11872fd2309&position=21&results_level=second-level-results&term=&objectID=course-295caad9-4c1c-4895-be05-8d60abf567ac&campaign=Fintech%3A+AI+%26+Machine+Learning+in+the+Financial+Industry&source=edX&product_category=course&placement_url=https%3A%2F%2Fwww.edx.org%2Fsearch'}\n"
     ]
    }
   ],
   "source": [
    "query = \"I'm an intermediate programmer with Python experience, looking to dive deep into machine learning for financial applications.\"\n",
    "retrieved_docs = retriever.get_relevant_documents(query)\n",
    "\n",
    "# Print the retrieved documents\n",
    "for i, doc in enumerate(retrieved_docs, start=1):\n",
    "    print(f\"Document {i}: {doc}\")"
   ]
  },
  {
   "cell_type": "code",
   "execution_count": 12,
   "id": "feae6700",
   "metadata": {},
   "outputs": [],
   "source": [
    "# Define a prompt template for course recommendations\n",
    "prompt_template = \"\"\"\n",
    "As an AI course recommendation expert, provide personalized, high-quality suggestions based on the user's interests, goals, and background.\n",
    "\n",
    "Chat History: {chat_history}\n",
    "User Query: {question}\n",
    "Relevant Courses: {context}\n",
    "\n",
    "Response Guidelines:\n",
    "1. Tone: Warm, professional, and approachable.\n",
    "2. Analysis: Consider user's query, history, and educational needs.\n",
    "3. Recommendations: For each course, include:\n",
    "   - Title and institution\n",
    "   - Brief overview\n",
    "   - Skills to be gained\n",
    "   - Key topics\n",
    "   - Level, duration, language\n",
    "   - Ratings (if available)\n",
    "   - Course URL (if available)\n",
    "4. Personalization: Explain how courses align with user's interests and needs.\n",
    "\n",
    "Note: All recommendations will be drawn strictly from the provided course context.\n",
    "\n",
    "Recommendation:\n",
    "\"\"\""
   ]
  },
  {
   "cell_type": "code",
   "execution_count": 13,
   "id": "16ece3c3",
   "metadata": {},
   "outputs": [
    {
     "name": "stderr",
     "output_type": "stream",
     "text": [
      "/usr/local/lib/python3.11/site-packages/langchain_core/_api/deprecation.py:119: LangChainDeprecationWarning: The class `ChatOpenAI` was deprecated in LangChain 0.0.10 and will be removed in 0.2.0. An updated version of the class exists in the langchain-openai package and should be used instead. To use it run `pip install -U langchain-openai` and import as `from langchain_openai import ChatOpenAI`.\n",
      "  warn_deprecated(\n"
     ]
    }
   ],
   "source": [
    "PROMPT = PromptTemplate(\n",
    "    template=prompt_template,\n",
    "    input_variables=[\"chat_history\", \"question\", \"context\"]\n",
    ")\n",
    "\n",
    "# Initialize the language model\n",
    "llm = ChatOpenAI(temperature=0.7, model_name=\"gpt-4o-mini\")"
   ]
  },
  {
   "cell_type": "code",
   "execution_count": 14,
   "id": "a8b0fb31",
   "metadata": {},
   "outputs": [],
   "source": [
    "# Set up conversation memory with summarization\n",
    "memory = ConversationSummaryBufferMemory(llm=llm, max_token_limit=1000, memory_key=\"chat_history\", return_messages=True)"
   ]
  },
  {
   "cell_type": "code",
   "execution_count": 15,
   "id": "b37ab495",
   "metadata": {},
   "outputs": [],
   "source": [
    "# Create the conversational retrieval chain\n",
    "qa_chain = ConversationalRetrievalChain.from_llm(\n",
    "    llm=llm,\n",
    "    retriever=retriever,\n",
    "    memory=memory,\n",
    "    combine_docs_chain_kwargs={\"prompt\": PROMPT}\n",
    ")"
   ]
  },
  {
   "cell_type": "code",
   "execution_count": 16,
   "id": "93906749",
   "metadata": {},
   "outputs": [],
   "source": [
    "# Function to get course recommendations\n",
    "def get_course_recommendations(user_query: str):\n",
    "    result = qa_chain({\"question\": user_query})\n",
    "    return result[\"answer\"]"
   ]
  },
  {
   "cell_type": "code",
   "execution_count": 17,
   "id": "4e73fd37",
   "metadata": {},
   "outputs": [
    {
     "name": "stderr",
     "output_type": "stream",
     "text": [
      "/usr/local/lib/python3.11/site-packages/langchain_core/_api/deprecation.py:119: LangChainDeprecationWarning: The method `Chain.__call__` was deprecated in langchain 0.1.0 and will be removed in 0.2.0. Use invoke instead.\n",
      "  warn_deprecated(\n"
     ]
    },
    {
     "name": "stdout",
     "output_type": "stream",
     "text": [
      "Recommendation: Based on your background as an intermediate programmer with Python experience and your interest in diving deep into machine learning for financial applications, I have identified two relevant courses that align perfectly with your goals:\n",
      "\n",
      "### 1. ACCA: Machine Learning with Python for Finance Professionals\n",
      "- **Institution**: ACCA (Association of Chartered Certified Accountants)\n",
      "- **Overview**: This course is specifically designed for finance professionals who want to enhance their understanding of machine learning using Python. It offers practical skills that can be directly applied in financial contexts, making it a great fit for your aspirations.\n",
      "- **Skills to be Gained**:\n",
      "  - Proficiency in Python for data analysis and machine learning.\n",
      "  - Ability to automate Excel workflows using Python.\n",
      "  - Understanding of how to interrogate machine learning models and work with data scientists.\n",
      "- **Key Topics**:\n",
      "  - Introduction to Python, data types, and control flows.\n",
      "  - Using Python libraries like pandas and NumPy for data manipulation.\n",
      "  - Automation of Excel using the xlwings library.\n",
      "  - Fundamentals of machine learning theory and applications in finance.\n",
      "- **Level**: Intermediate\n",
      "- **Duration**: Includes 16 Jupyter Notebooks with practical exercises.\n",
      "- **Language**: English\n",
      "- **Ratings**: Not available\n",
      "- **Course URL**: [View Course](https://www.edx.org/learn/python/acca-machine-learning-with-python-for-finance-professionals?index=product&queryID=2965a169cdbffc5d0d56686bb60a318e&position=4&results_level=second-level-results&term=&objectID=course-907c58da-df1f-421f-a072-9e31d2fb4839&campaign=Machine+learning+with+Python+for+finance+professionals&source=edX&product_category=course&placement_url=https%3A%2F%2Fwww.edx.org%2Fsearch)\n",
      "\n",
      "### 2. UTAustinX: Fintech: AI & Machine Learning in the Financial Industry\n",
      "- **Institution**: UTAustinX\n",
      "- **Overview**: This course dives into the applications of machine learning in the financial sector, providing a detailed explanation of how AI tools can enhance financial products and services. It includes practical modeling using Python, making it a practical choice for your goals.\n",
      "- **Skills to be Gained**:\n",
      "  - Understanding of machine learning algorithms and their applications in finance.\n",
      "  - Ability to model credit application decisions.\n",
      "  - Insights into fintech innovations like robo-advising and quantitative investing.\n",
      "- **Key Topics**:\n",
      "  - Crowdfunding models, including equity crowdfunding and marketplace lending.\n",
      "  - Overview of AI, measuring accuracy, and various machine learning models.\n",
      "  - Applications in robo-advising, social investing, and quantitative investing.\n",
      "- **Level**: Intermediate\n",
      "- **Duration**: Structured over four weeks.\n",
      "- **Language**: English\n",
      "- **Ratings**: Not available\n",
      "- **Course URL**: [View Course](https://www.edx.org/learn/economics/the-university-of-texas-at-austin-fintech-machine-learning-and-finance?index=product&queryID=047cadb5bd983ab72173b7ff6949dea3&position=1&results_level=second-level-results&term=&objectID=course-295caad9-4c1c-4895-be05-8d60abf567ac&campaign=Fintech%3A+AI+%26+Machine+Learning+in+the+Financial+Industry&source=edX&product_category=course&placement_url=https%3A%2F%2Fwww.edx.org%2Fsearch)\n",
      "\n",
      "### Personalization\n",
      "Both of these courses are tailored to enhance your existing Python skills and provide you with the necessary tools to apply machine learning concepts in the financial domain. The ACCA course focuses on practical applications, which will help you maximize efficiency in your organization, while the UTAustinX course provides a broader overview of fintech innovations and machine learning applications in real-world finance scenarios. Together, they will equip you with a well-rounded understanding and practical skills to thrive in the intersection of technology and finance.\n",
      "\n",
      "Feel free to explore these options, and let me know if you have any further questions or need additional recommendations!\n"
     ]
    }
   ],
   "source": [
    "user_query1 = \"I'm an intermediate programmer with Python experience, looking to dive deep into machine learning for financial applications.\"\n",
    "result1 = get_course_recommendations(user_query1)\n",
    "print(\"Recommendation:\", result1)\n"
   ]
  },
  {
   "cell_type": "code",
   "execution_count": 18,
   "id": "8d3bf062",
   "metadata": {},
   "outputs": [
    {
     "name": "stdout",
     "output_type": "stream",
     "text": [
      "\n",
      "Recommendation 2: Based on your interest in time series analysis and predictive modeling for stock markets, I have identified several relevant courses that will help you deepen your understanding of these topics and apply them effectively in financial contexts. Here are my top recommendations:\n",
      "\n",
      "### 1. Practical Time Series Analysis\n",
      "- **Institution**: Coursera\n",
      "- **Overview**: This course provides a hands-on approach to time series analysis, focusing on practical applications and techniques that can be used in various fields, including finance.\n",
      "- **Skills to be Gained**:\n",
      "  - Proficiency in time series forecasting.\n",
      "  - Understanding of different time series models.\n",
      "- **Key Topics**:\n",
      "  - Time series data and its characteristics.\n",
      "  - Forecasting methods and evaluation metrics.\n",
      "  - Practical applications of time series analysis.\n",
      "- **Level**: Intermediate\n",
      "- **Duration**: Not specified\n",
      "- **Language**: English\n",
      "- **Ratings**: 4.6\n",
      "- **Course URL**: [View Course](https://www.coursera.org/learn/practical-time-series-analysis)\n",
      "\n",
      "### 2. Bayesian Statistics: Time Series Analysis\n",
      "- **Institution**: Coursera (part of Bayesian Statistics Specialization)\n",
      "- **Overview**: This course focuses on Bayesian methods for time series analysis, allowing you to build models that describe temporal dependencies, which can be particularly useful in financial forecasting.\n",
      "- **Skills to be Gained**:\n",
      "  - Building models that describe temporal dependencies.\n",
      "  - Using R for time series analysis and forecasting.\n",
      "  - Understanding stationary time series processes.\n",
      "- **Key Topics**:\n",
      "  - Introduction to Bayesian statistics.\n",
      "  - Dynamic linear modeling.\n",
      "  - Practical applications in forecasting.\n",
      "- **Level**: Intermediate\n",
      "- **Duration**: Not specified\n",
      "- **Language**: English\n",
      "- **Ratings**: 4.3\n",
      "- **Course URL**: [View Course](https://www.coursera.org/learn/bayesian-statistics-time-series-analysis)\n",
      "\n",
      "### 3. Introduction to Predictive Modeling\n",
      "- **Institution**: Coursera (part of Analytics for Decision Making Specialization)\n",
      "- **Overview**: This course introduces predictive modeling techniques, including time series forecasting, which is vital for making informed financial predictions.\n",
      "- **Skills to be Gained**:\n",
      "  - Predictive analytics techniques.\n",
      "  - Data preparation and linear regression.\n",
      "  - Time series forecasting methods.\n",
      "- **Key Topics**:\n",
      "  - Basics of predictive modeling.\n",
      "  - Data preparation techniques.\n",
      "  - Application of models in decision-making contexts.\n",
      "- **Level**: Intermediate\n",
      "- **Duration**: Not specified\n",
      "- **Language**: English\n",
      "- **Ratings**: 4.8\n",
      "- **Course URL**: [View Course](https://www.coursera.org/learn/introduction-to-predictive-modeling)\n",
      "\n",
      "### Personalization\n",
      "These courses are well-suited to your programming background and your goal of applying machine learning and predictive modeling in financial markets. The \"Practical Time Series Analysis\" course will give you hands-on skills in forecasting, which is crucial for stock market analysis. The \"Bayesian Statistics: Time Series Analysis\" course will enhance your understanding of advanced statistical methods, helping you build robust predictive models. Finally, the \"Introduction to Predictive Modeling\" course rounds out your learning by equipping you with essential predictive analytics techniques that can be directly applied to financial data.\n",
      "\n",
      "Feel free to explore these options further, and let me know if you have any questions or need additional recommendations!\n"
     ]
    }
   ],
   "source": [
    "user_query2 = \"That sounds great! But I'm particularly interested in time series analysis and predictive modeling for stock markets. Any courses focusing on that?\"\n",
    "recommendation2 = get_course_recommendations(user_query2)\n",
    "print(\"\\nRecommendation 2:\", recommendation2)"
   ]
  },
  {
   "cell_type": "code",
   "execution_count": null,
   "id": "61dc6104",
   "metadata": {},
   "outputs": [],
   "source": []
  }
 ],
 "metadata": {
  "kernelspec": {
   "display_name": "base",
   "language": "python",
   "name": "python3"
  },
  "language_info": {
   "codemirror_mode": {
    "name": "ipython",
    "version": 3
   },
   "file_extension": ".py",
   "mimetype": "text/x-python",
   "name": "python",
   "nbconvert_exporter": "python",
   "pygments_lexer": "ipython3",
   "version": "3.11.2"
  }
 },
 "nbformat": 4,
 "nbformat_minor": 5
}

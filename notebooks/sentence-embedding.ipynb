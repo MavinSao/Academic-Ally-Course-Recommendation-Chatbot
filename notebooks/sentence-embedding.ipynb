{
 "cells": [
  {
   "cell_type": "code",
   "execution_count": 1,
   "metadata": {},
   "outputs": [],
   "source": [
    "#%pip install -Uq accelerate multiprocess"
   ]
  },
  {
   "cell_type": "code",
   "execution_count": 2,
   "metadata": {},
   "outputs": [],
   "source": [
    "#%pip install --q langchain langchain_community openai faiss-cpu pandas tiktoken sentence-transformers"
   ]
  },
  {
   "cell_type": "code",
   "execution_count": 3,
   "metadata": {},
   "outputs": [],
   "source": [
    "import pandas as pd\n",
    "from langchain.embeddings import HuggingFaceEmbeddings\n",
    "from langchain.vectorstores import FAISS"
   ]
  },
  {
   "cell_type": "code",
   "execution_count": 4,
   "metadata": {},
   "outputs": [
    {
     "name": "stderr",
     "output_type": "stream",
     "text": [
      "/usr/local/lib/python3.11/site-packages/sentence_transformers/cross_encoder/CrossEncoder.py:13: TqdmWarning: IProgress not found. Please update jupyter and ipywidgets. See https://ipywidgets.readthedocs.io/en/stable/user_install.html\n",
      "  from tqdm.autonotebook import tqdm, trange\n",
      "2024-12-10 16:44:15.489170: I tensorflow/core/platform/cpu_feature_guard.cc:210] This TensorFlow binary is optimized to use available CPU instructions in performance-critical operations.\n",
      "To enable the following instructions: AVX2 FMA, in other operations, rebuild TensorFlow with the appropriate compiler flags.\n"
     ]
    }
   ],
   "source": [
    "# Initialize Sentence Transformer embeddings\n",
    "model_name = \"all-MiniLM-L6-v2\" \n",
    "embeddings = HuggingFaceEmbeddings(model_name=model_name)"
   ]
  },
  {
   "cell_type": "code",
   "execution_count": 8,
   "metadata": {},
   "outputs": [
    {
     "data": {
      "text/html": [
       "<div>\n",
       "<style scoped>\n",
       "    .dataframe tbody tr th:only-of-type {\n",
       "        vertical-align: middle;\n",
       "    }\n",
       "\n",
       "    .dataframe tbody tr th {\n",
       "        vertical-align: top;\n",
       "    }\n",
       "\n",
       "    .dataframe thead th {\n",
       "        text-align: right;\n",
       "    }\n",
       "</style>\n",
       "<table border=\"1\" class=\"dataframe\">\n",
       "  <thead>\n",
       "    <tr style=\"text-align: right;\">\n",
       "      <th></th>\n",
       "      <th>title</th>\n",
       "      <th>sub_info</th>\n",
       "      <th>subject</th>\n",
       "      <th>rating</th>\n",
       "      <th>level</th>\n",
       "      <th>institution</th>\n",
       "      <th>about</th>\n",
       "      <th>what_you_will_learn</th>\n",
       "      <th>syllabus</th>\n",
       "      <th>course_url</th>\n",
       "      <th>skills_you_will_gain</th>\n",
       "    </tr>\n",
       "  </thead>\n",
       "  <tbody>\n",
       "    <tr>\n",
       "      <th>0</th>\n",
       "      <td>HarvardX: The Architectural Imagination</td>\n",
       "      <td>Learn fundamental principles of architecture —...</td>\n",
       "      <td>Architecture</td>\n",
       "      <td>NaN</td>\n",
       "      <td>Introductory</td>\n",
       "      <td>HarvardX</td>\n",
       "      <td>Architecture engages a culture’s deepest socia...</td>\n",
       "      <td>How to read, analyze, and understand different...</td>\n",
       "      <td>Part I: Form and History Part II: The Technolo...</td>\n",
       "      <td>https://www.edx.org/learn/architecture/harvard...</td>\n",
       "      <td>NaN</td>\n",
       "    </tr>\n",
       "    <tr>\n",
       "      <th>1</th>\n",
       "      <td>MITx: Sustainable Building Design</td>\n",
       "      <td>Learn and explore key scientific principles, t...</td>\n",
       "      <td>Architecture</td>\n",
       "      <td>NaN</td>\n",
       "      <td>Intermediate</td>\n",
       "      <td>MITx</td>\n",
       "      <td>Meeting growing global energy demand, while mi...</td>\n",
       "      <td>Understand the scientific principles underlyin...</td>\n",
       "      <td>Week 1 - Energy Use in Buildings Week 2 - Unde...</td>\n",
       "      <td>https://www.edx.org/learn/sustainable-developm...</td>\n",
       "      <td>NaN</td>\n",
       "    </tr>\n",
       "  </tbody>\n",
       "</table>\n",
       "</div>"
      ],
      "text/plain": [
       "                                     title  \\\n",
       "0  HarvardX: The Architectural Imagination   \n",
       "1        MITx: Sustainable Building Design   \n",
       "\n",
       "                                            sub_info       subject  rating  \\\n",
       "0  Learn fundamental principles of architecture —...  Architecture     NaN   \n",
       "1  Learn and explore key scientific principles, t...  Architecture     NaN   \n",
       "\n",
       "          level institution  \\\n",
       "0  Introductory    HarvardX   \n",
       "1  Intermediate        MITx   \n",
       "\n",
       "                                               about  \\\n",
       "0  Architecture engages a culture’s deepest socia...   \n",
       "1  Meeting growing global energy demand, while mi...   \n",
       "\n",
       "                                 what_you_will_learn  \\\n",
       "0  How to read, analyze, and understand different...   \n",
       "1  Understand the scientific principles underlyin...   \n",
       "\n",
       "                                            syllabus  \\\n",
       "0  Part I: Form and History Part II: The Technolo...   \n",
       "1  Week 1 - Energy Use in Buildings Week 2 - Unde...   \n",
       "\n",
       "                                          course_url skills_you_will_gain  \n",
       "0  https://www.edx.org/learn/architecture/harvard...                  NaN  \n",
       "1  https://www.edx.org/learn/sustainable-developm...                  NaN  "
      ]
     },
     "execution_count": 8,
     "metadata": {},
     "output_type": "execute_result"
    }
   ],
   "source": [
    "df = pd.read_csv(\"../courses_csv/combined_dataset.csv\")\n",
    "df.head(2)"
   ]
  },
  {
   "cell_type": "code",
   "execution_count": 9,
   "metadata": {},
   "outputs": [],
   "source": [
    "# Function to prepare data for embedding\n",
    "def prepare_data_for_embedding(row):\n",
    "    combined_info = f\"\"\"\n",
    "    Title: {row['title']}\n",
    "    Subject: {row['subject']}\n",
    "    Description: {row['sub_info'] if pd.notna(row['sub_info']) else 'no data'}\n",
    "    Level: {row['level'] if pd.notna(row['level']) else 'no data'}\n",
    "    Institution: {row['institution'] if pd.notna(row['institution']) else 'no data'}\n",
    "    About: {row['about'] if pd.notna(row['about']) else 'no data'}\n",
    "    What You Will Learn: {row['what_you_will_learn'] if pd.notna(row['what_you_will_learn']) else 'no data'}\n",
    "    Syllabus: {row['syllabus'] if pd.notna(row['syllabus']) else 'no data'}\n",
    "    Skills You Will Gain: {row['skills_you_will_gain'] if pd.notna(row['skills_you_will_gain']) else 'no data'}\n",
    "    Rating: {row['rating'] if pd.notna(row['rating']) else 'no data'}\n",
    "    Course URL: {row['course_url']}\n",
    "    \"\"\"\n",
    "    \n",
    "    return combined_info.strip()"
   ]
  },
  {
   "cell_type": "code",
   "execution_count": 10,
   "metadata": {},
   "outputs": [],
   "source": [
    "# Prepare data for embedding\n",
    "df['combined_info'] = df.apply(prepare_data_for_embedding, axis=1)"
   ]
  },
  {
   "cell_type": "code",
   "execution_count": 11,
   "metadata": {},
   "outputs": [
    {
     "data": {
      "text/plain": [
       "\"Title: HarvardX: The Architectural Imagination\\n    Subject: Architecture\\n    Description: Learn fundamental principles of architecture — as an academic subject or a professional career — by studying some of history’s most important buildings.\\n    Level: Introductory\\n    Institution: HarvardX\\n    About: Architecture engages a culture’s deepest social values and expresses them in material, aesthetic form. This course will teach you how to understand architecture as both cultural expression and technical achievement. Vivid analyses of exemplary buildings, and hands-on exercises in drawing and modeling, will bring you closer to the work of architects and historians. The first part of the course introduces the idea of the architectural imagination. Perspective drawing and architectural typology are explored and you will be introduced to some of the challenges in writing architectural history. Then we address technology as a component of architecture. You will discover ways that innovative technology can enable and promote new aesthetic experiences, or disrupt age-old traditions. Technological advances changed what could be built, and even what could even be thought of as architecture. Finally, we'll confront architecture’s complex relationship to its social and historical contexts and its audiences, achievements, and aspirations. You will learn about architecture’s power of representation and see how it can produce collective meaning and memory. Architecture is one of the most complexly negotiated and globally recognized cultural practices, both as an academic subject and a professional career. Its production involves all of the technical, aesthetic, political, and economic issues at play within a given society. Join us as we examine how architecture engages, mediates, and expresses a culture’s complex aspirations. This course is eligible for American Institute of Architects (AIA) continuing education units (CEUs). Enroll in the course to learn more about options for earning credit.\\n    What You Will Learn: How to read, analyze, and understand different forms of architectural representation. Social and historical contexts behind major works of architecture. Basic principles to produce your own architectural drawings and models. Pertinent content for academic study or a professional career as an architect\\n    Syllabus: Part I: Form and History Part II: The Technology Effect Part III: Representation and Context\\n    Skills You Will Gain: no data\\n    Rating: no data\\n    Course URL: https://www.edx.org/learn/architecture/harvard-university-the-architectural-imagination?index=product&queryID=bf1ffea56b85f17d40c6958b4facd459&position=1&results_level=second-level-results&term=&objectID=course-8c411679-4105-4de9-8a4c-9c5b3f4a33a6&campaign=The+Architectural+Imagination&source=edX&product_category=course&placement_url=https%3A%2F%2Fwww.edx.org%2Fsearch\""
      ]
     },
     "execution_count": 11,
     "metadata": {},
     "output_type": "execute_result"
    }
   ],
   "source": [
    "df['combined_info'][0]"
   ]
  },
  {
   "cell_type": "code",
   "execution_count": 13,
   "metadata": {},
   "outputs": [],
   "source": [
    "#Create a vector store using FAISS\n",
    "texts = df['combined_info'].tolist()\n",
    "\n",
    "metadatas = df[['title', 'sub_info', 'rating', 'subject', 'level', 'institution', 'course_url']].to_dict('records')\n",
    "\n",
    "#Create the vector store\n",
    "vectorstore = FAISS.from_texts(texts, embeddings, metadatas=metadatas)"
   ]
  },
  {
   "cell_type": "code",
   "execution_count": null,
   "metadata": {},
   "outputs": [],
   "source": [
    "# Save the FAISS index\n",
    "vectorstore.save_local(\"../faiss_index\")\n",
    "\n",
    "print(\"FAISS index saved to faiss_index directory\")"
   ]
  }
 ],
 "metadata": {
  "kernelspec": {
   "display_name": "Python 3",
   "language": "python",
   "name": "python3"
  },
  "language_info": {
   "codemirror_mode": {
    "name": "ipython",
    "version": 3
   },
   "file_extension": ".py",
   "mimetype": "text/x-python",
   "name": "python",
   "nbconvert_exporter": "python",
   "pygments_lexer": "ipython3",
   "version": "3.11.2"
  }
 },
 "nbformat": 4,
 "nbformat_minor": 2
}
